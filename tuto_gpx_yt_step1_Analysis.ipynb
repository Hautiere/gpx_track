{
 "cells": [
  {
   "cell_type": "markdown",
   "id": "fea868fc",
   "metadata": {},
   "source": [
    "# GPX Tutorial1 : first analyze\n"
   ]
  },
  {
   "cell_type": "markdown",
   "id": "0a245a67",
   "metadata": {},
   "source": [
    "**Check pwd**"
   ]
  },
  {
   "cell_type": "code",
   "execution_count": 5,
   "id": "e6044940",
   "metadata": {
    "scrolled": true
   },
   "outputs": [
    {
     "name": "stdout",
     "output_type": "stream",
     "text": [
      "/Users/roigradlon/local doc/python/gpx-projects\n"
     ]
    }
   ],
   "source": [
    "import os\n",
    "print(os.getcwd())    "
   ]
  },
  {
   "cell_type": "markdown",
   "id": "ce2767a7",
   "metadata": {},
   "source": [
    "**import** **libraries** :  gpxpy, pandas, matplotlib"
   ]
  },
  {
   "cell_type": "code",
   "execution_count": 6,
   "id": "abb50d7e",
   "metadata": {},
   "outputs": [],
   "source": [
    "import gpxpy \n",
    "import gpxpy.gpx\n",
    "import pandas as pd \n",
    "import matplotlib.pyplot as plt\n",
    "\n",
    "plt.rcParams['axes.spines.top'] = False \n",
    "plt.rcParams['axes.spines.right'] = False"
   ]
  },
  {
   "cell_type": "markdown",
   "id": "e0434520",
   "metadata": {},
   "source": [
    "**Open gpx file**"
   ]
  },
  {
   "cell_type": "code",
   "execution_count": 7,
   "id": "3379ff34-493f-4ca4-ab2c-c59c15d01b9f",
   "metadata": {},
   "outputs": [],
   "source": [
    "with open('/Users/roigradlon/local doc/python/gpx-projects/quimperDec.gpx', 'r',encoding='utf-8') as gpx_file:\n",
    "    gpx= gpxpy.parse(gpx_file)\n",
    "    \n",
    "    gpx"
   ]
  },
  {
   "cell_type": "markdown",
   "id": "2bebf4dd",
   "metadata": {},
   "source": [
    "**display gox file info** : *time_bounds, elevation extremes, trck_points_nb, uphill_downhill*"
   ]
  },
  {
   "cell_type": "code",
   "execution_count": 8,
   "id": "1c6a4b2a",
   "metadata": {},
   "outputs": [
    {
     "data": {
      "text/plain": [
       "TimeBounds(start_time=datetime.datetime(2022, 12, 25, 9, 48, 51, tzinfo=SimpleTZ(\"Z\")), end_time=datetime.datetime(2022, 12, 25, 10, 45, 9, tzinfo=SimpleTZ(\"Z\")))"
      ]
     },
     "execution_count": 8,
     "metadata": {},
     "output_type": "execute_result"
    }
   ],
   "source": [
    "gpx.get_time_bounds()"
   ]
  },
  {
   "cell_type": "code",
   "execution_count": 9,
   "id": "f65c1371",
   "metadata": {},
   "outputs": [
    {
     "data": {
      "text/plain": [
       "MinimumMaximum(minimum=-5.800000190734863, maximum=37.20000076293945)"
      ]
     },
     "execution_count": 9,
     "metadata": {},
     "output_type": "execute_result"
    }
   ],
   "source": [
    "gpx.get_elevation_extremes()"
   ]
  },
  {
   "cell_type": "code",
   "execution_count": 10,
   "id": "e3025c9f",
   "metadata": {},
   "outputs": [
    {
     "data": {
      "text/plain": [
       "891"
      ]
     },
     "execution_count": 10,
     "metadata": {},
     "output_type": "execute_result"
    }
   ],
   "source": [
    "gpx.get_track_points_no()"
   ]
  },
  {
   "cell_type": "code",
   "execution_count": 11,
   "id": "cc58d01e",
   "metadata": {},
   "outputs": [
    {
     "data": {
      "text/plain": [
       "UphillDownhill(uphill=150.90000228881837, downhill=153.5000026702882)"
      ]
     },
     "execution_count": 11,
     "metadata": {},
     "output_type": "execute_result"
    }
   ],
   "source": [
    "gpx.get_uphill_downhill()"
   ]
  },
  {
   "cell_type": "markdown",
   "id": "7962cd29",
   "metadata": {},
   "source": [
    "**display XML file**"
   ]
  },
  {
   "cell_type": "code",
   "execution_count": 12,
   "id": "20759da5",
   "metadata": {},
   "outputs": [
    {
     "data": {
      "text/plain": [
       "'<?xml version=\"1.0\" encoding=\"UTF-8\"?>\\n<gpx xmlns=\"http://www.topografix.com/GPX/1/1\" xmlns:ns2=\"http://www.garmin.com/xmlschemas/GpxExtensions/v3\" xmlns:ns3=\"http://www.garmin.com/xmlschemas/TrackPointExtension/v1\" xmlns:xsi=\"http://www.w3.org/2001/XMLSchema-instance\" xsi:schemaLocation=\"http://www.topografix.com/GPX/1/1 http://www.topografix.com/GPX/11.xsd\" version=\"1.1\" creator=\"Garmin Connect\">\\n  <metadata>\\n    <link href=\"connect.garmin.com\">\\n      <text>Garmin Connect</text>\\n    </link>\\n    <time>2022-12-25T09:48:17Z</time>\\n  </metadata>\\n  <trk>\\n    <name>Quimper Course à pied</name>\\n    <type>running</type>\\n    <trkseg>\\n      <trkpt lat=\"48.00958142615855\" lon=\"-4.087767424061894\">\\n        <ele>26.399999618530273</ele>\\n        <time>2022-12-25T09:48:51Z</time>\\n        <extensions>\\n          <ns3:TrackPointExtension>\\n            <ns3:atemp>27.0</ns3:atemp>\\n            <ns3:hr>119</ns3:hr>\\n            <ns3:cad>82</ns3:cad>\\n          </ns3:TrackPointExtension>\\n        </extensions>'"
      ]
     },
     "execution_count": 12,
     "metadata": {},
     "output_type": "execute_result"
    }
   ],
   "source": [
    "gpx.to_xml()[:1000]"
   ]
  },
  {
   "cell_type": "markdown",
   "id": "a4e38fa7",
   "metadata": {},
   "source": [
    "**First analysis** : nb of tracks, nbre de segments, nbre de points, 10 premiers points gps"
   ]
  },
  {
   "cell_type": "code",
   "execution_count": 13,
   "id": "3dd88c4f",
   "metadata": {},
   "outputs": [
    {
     "data": {
      "text/plain": [
       "1"
      ]
     },
     "execution_count": 13,
     "metadata": {},
     "output_type": "execute_result"
    }
   ],
   "source": [
    "len(gpx.tracks)"
   ]
  },
  {
   "cell_type": "code",
   "execution_count": 14,
   "id": "452a88d9",
   "metadata": {},
   "outputs": [
    {
     "data": {
      "text/plain": [
       "GPXTrack(name='Quimper Course à pied', segments=[GPXTrackSegment(points=[...])])"
      ]
     },
     "execution_count": 14,
     "metadata": {},
     "output_type": "execute_result"
    }
   ],
   "source": [
    "gpx.tracks[0]"
   ]
  },
  {
   "cell_type": "code",
   "execution_count": 15,
   "id": "3774fa1d",
   "metadata": {},
   "outputs": [
    {
     "data": {
      "text/plain": [
       "GPXTrackSegment(points=[...])"
      ]
     },
     "execution_count": 15,
     "metadata": {},
     "output_type": "execute_result"
    }
   ],
   "source": [
    "gpx.tracks[0].segments[0]"
   ]
  },
  {
   "cell_type": "code",
   "execution_count": 16,
   "id": "6011c6d6",
   "metadata": {},
   "outputs": [
    {
     "data": {
      "text/plain": [
       "[GPXTrackPoint(48.00958142615855, -4.087767424061894, elevation=26.399999618530273, time=datetime.datetime(2022, 12, 25, 9, 48, 51, tzinfo=SimpleTZ(\"Z\"))),\n",
       " GPXTrackPoint(48.00960858352482, -4.087757952511311, elevation=26.600000381469727, time=datetime.datetime(2022, 12, 25, 9, 48, 53, tzinfo=SimpleTZ(\"Z\"))),\n",
       " GPXTrackPoint(48.00962811335921, -4.087756779044867, elevation=26.799999237060547, time=datetime.datetime(2022, 12, 25, 9, 48, 54, tzinfo=SimpleTZ(\"Z\"))),\n",
       " GPXTrackPoint(48.00968276336789, -4.087759042158723, elevation=27.399999618530273, time=datetime.datetime(2022, 12, 25, 9, 48, 57, tzinfo=SimpleTZ(\"Z\"))),\n",
       " GPXTrackPoint(48.00974001176655, -4.087791480123997, elevation=28.399999618530273, time=datetime.datetime(2022, 12, 25, 9, 49, 2, tzinfo=SimpleTZ(\"Z\"))),\n",
       " GPXTrackPoint(48.00975736230612, -4.0877968445420265, elevation=28.399999618530273, time=datetime.datetime(2022, 12, 25, 9, 49, 3, tzinfo=SimpleTZ(\"Z\"))),\n",
       " GPXTrackPoint(48.00985241308808, -4.087809165939689, elevation=29.600000381469727, time=datetime.datetime(2022, 12, 25, 9, 49, 8, tzinfo=SimpleTZ(\"Z\"))),\n",
       " GPXTrackPoint(48.009934136644006, -4.087790139019489, elevation=30.0, time=datetime.datetime(2022, 12, 25, 9, 49, 13, tzinfo=SimpleTZ(\"Z\"))),\n",
       " GPXTrackPoint(48.01003539003432, -4.087780164554715, elevation=30.600000381469727, time=datetime.datetime(2022, 12, 25, 9, 49, 18, tzinfo=SimpleTZ(\"Z\"))),\n",
       " GPXTrackPoint(48.01007704809308, -4.08777941018343, elevation=31.0, time=datetime.datetime(2022, 12, 25, 9, 49, 20, tzinfo=SimpleTZ(\"Z\")))]"
      ]
     },
     "execution_count": 16,
     "metadata": {},
     "output_type": "execute_result"
    }
   ],
   "source": [
    "gpx.tracks[0].segments[0].points[:10]"
   ]
  },
  {
   "cell_type": "code",
   "execution_count": 17,
   "id": "e434e332",
   "metadata": {},
   "outputs": [],
   "source": [
    "route_info = []\n",
    "\n",
    "for tracks in gpx.tracks: \n",
    "    for segments in tracks.segments: \n",
    "            for point in segments.points: \n",
    "                route_info.append ({\n",
    "                    'latitude': point.latitude,\n",
    "                    'longitude': point.longitude,\n",
    "                    'elevation': point.elevation    \n",
    "                })            "
   ]
  },
  {
   "cell_type": "code",
   "execution_count": 21,
   "id": "5b6dfd77",
   "metadata": {},
   "outputs": [
    {
     "data": {
      "text/plain": [
       "[{'latitude': 48.00958142615855,\n",
       "  'longitude': -4.087767424061894,\n",
       "  'elevation': 26.399999618530273},\n",
       " {'latitude': 48.00960858352482,\n",
       "  'longitude': -4.087757952511311,\n",
       "  'elevation': 26.600000381469727},\n",
       " {'latitude': 48.00962811335921,\n",
       "  'longitude': -4.087756779044867,\n",
       "  'elevation': 26.799999237060547},\n",
       " {'latitude': 48.00968276336789,\n",
       "  'longitude': -4.087759042158723,\n",
       "  'elevation': 27.399999618530273},\n",
       " {'latitude': 48.00974001176655,\n",
       "  'longitude': -4.087791480123997,\n",
       "  'elevation': 28.399999618530273}]"
      ]
     },
     "execution_count": 21,
     "metadata": {},
     "output_type": "execute_result"
    }
   ],
   "source": [
    " route_info[:5]   "
   ]
  },
  {
   "cell_type": "code",
   "execution_count": 22,
   "id": "6f562215",
   "metadata": {},
   "outputs": [
    {
     "data": {
      "text/html": [
       "<div>\n",
       "<style scoped>\n",
       "    .dataframe tbody tr th:only-of-type {\n",
       "        vertical-align: middle;\n",
       "    }\n",
       "\n",
       "    .dataframe tbody tr th {\n",
       "        vertical-align: top;\n",
       "    }\n",
       "\n",
       "    .dataframe thead th {\n",
       "        text-align: right;\n",
       "    }\n",
       "</style>\n",
       "<table border=\"1\" class=\"dataframe\">\n",
       "  <thead>\n",
       "    <tr style=\"text-align: right;\">\n",
       "      <th></th>\n",
       "      <th>latitude</th>\n",
       "      <th>longitude</th>\n",
       "      <th>elevation</th>\n",
       "    </tr>\n",
       "  </thead>\n",
       "  <tbody>\n",
       "    <tr>\n",
       "      <th>0</th>\n",
       "      <td>48.009581</td>\n",
       "      <td>-4.087767</td>\n",
       "      <td>26.400000</td>\n",
       "    </tr>\n",
       "    <tr>\n",
       "      <th>1</th>\n",
       "      <td>48.009609</td>\n",
       "      <td>-4.087758</td>\n",
       "      <td>26.600000</td>\n",
       "    </tr>\n",
       "    <tr>\n",
       "      <th>2</th>\n",
       "      <td>48.009628</td>\n",
       "      <td>-4.087757</td>\n",
       "      <td>26.799999</td>\n",
       "    </tr>\n",
       "    <tr>\n",
       "      <th>3</th>\n",
       "      <td>48.009683</td>\n",
       "      <td>-4.087759</td>\n",
       "      <td>27.400000</td>\n",
       "    </tr>\n",
       "    <tr>\n",
       "      <th>4</th>\n",
       "      <td>48.009740</td>\n",
       "      <td>-4.087791</td>\n",
       "      <td>28.400000</td>\n",
       "    </tr>\n",
       "  </tbody>\n",
       "</table>\n",
       "</div>"
      ],
      "text/plain": [
       "    latitude  longitude  elevation\n",
       "0  48.009581  -4.087767  26.400000\n",
       "1  48.009609  -4.087758  26.600000\n",
       "2  48.009628  -4.087757  26.799999\n",
       "3  48.009683  -4.087759  27.400000\n",
       "4  48.009740  -4.087791  28.400000"
      ]
     },
     "execution_count": 22,
     "metadata": {},
     "output_type": "execute_result"
    }
   ],
   "source": [
    "route_df= pd.DataFrame(route_info)\n",
    "route_df.head(5)\n"
   ]
  },
  {
   "cell_type": "code",
   "execution_count": 20,
   "id": "6d24bdcf",
   "metadata": {},
   "outputs": [],
   "source": [
    "route_df.to_csv('route_df.csv', index=False)"
   ]
  },
  {
   "cell_type": "code",
   "execution_count": null,
   "id": "21eb798e",
   "metadata": {},
   "outputs": [],
   "source": []
  }
 ],
 "metadata": {
  "kernelspec": {
   "display_name": "Python 3 (ipykernel)",
   "language": "python",
   "name": "python3"
  },
  "language_info": {
   "codemirror_mode": {
    "name": "ipython",
    "version": 3
   },
   "file_extension": ".py",
   "mimetype": "text/x-python",
   "name": "python",
   "nbconvert_exporter": "python",
   "pygments_lexer": "ipython3",
   "version": "3.9.13"
  }
 },
 "nbformat": 4,
 "nbformat_minor": 5
}
